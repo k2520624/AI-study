{
  "nbformat": 4,
  "nbformat_minor": 0,
  "metadata": {
    "colab": {
      "provenance": []
    },
    "kernelspec": {
      "name": "python3",
      "display_name": "Python 3"
    },
    "language_info": {
      "name": "python"
    },
    "gpuClass": "standard"
  },
  "cells": [
    {
      "cell_type": "markdown",
      "source": [
        "### <b>1. 파이토치(PyTorch) 개요</b>\n",
        "\n",
        "* PyTorch는 기계 학습 프레임워크(framework) 중 하나다.\n",
        "  * PyTorch의 텐서(tensor)는 NumPy 배열과 매우 유사하다.\n",
        "* PyTorch를 사용하면, GPU 연동을 통해 효율적으로 딥러닝 모델을 학습할 수 있다.\n",
        "* Google Colab을 이용하면, 손쉽게 PyTorch를 시작할 수 있다.\n",
        "* Google Colab에서는 <b>[런타임]</b> - <b>[런타임 유형 변경]</b>에서 <b>GPU를 선택</b>할 수 있다."
      ],
      "metadata": {
        "id": "76IGJKtsf-hb"
      }
    },
    {
      "cell_type": "code",
      "source": [
        "import torch"
      ],
      "metadata": {
        "id": "WdxD4kiCh0q4"
      },
      "execution_count": null,
      "outputs": []
    },
    {
      "cell_type": "markdown",
      "source": [
        "#### <b>1) GPU 사용 여부 체크하기</b>\n",
        "\n",
        "* 텐서간의 연산을 수행할 때, 기본적으로 두 텐서가 같은 장치에 있어야 한다.\n",
        "* 따라서 가능하면, 연산을 수행하는 텐서들을 모두 GPU에 올린 뒤에 연산을 수행한다."
      ],
      "metadata": {
        "id": "oJ9J6se4gpwb"
      }
    },
    {
      "cell_type": "code",
      "execution_count": null,
      "metadata": {
        "id": "nnMmZsS1f2ju",
        "colab": {
          "base_uri": "https://localhost:8080/"
        },
        "outputId": "44fc3d1d-75d0-4239-c8c4-ebfdff359989"
      },
      "outputs": [
        {
          "output_type": "stream",
          "name": "stdout",
          "text": [
            "False\n",
            "True\n",
            "False\n"
          ]
        }
      ],
      "source": [
        "data = [\n",
        "  [1, 2],\n",
        "  [3, 4]\n",
        "]\n",
        "\n",
        "x = torch.tensor(data)\n",
        "print(x.is_cuda)\n",
        "\n",
        "x = x.cuda() # GPU로 옮기기\n",
        "print(x.is_cuda)\n",
        "\n",
        "x = x.cpu() # CPU로 옮기기\n",
        "print(x.is_cuda)"
      ]
    },
    {
      "cell_type": "markdown",
      "source": [
        "* <b>서로 다른 장치(device)</b>에 있는 텐서끼리 연산을 수행하면 오류가 발생한다."
      ],
      "metadata": {
        "id": "p_Omifcugvyc"
      }
    },
    {
      "cell_type": "code",
      "source": [
        "# GPU 장치의 텐서\n",
        "a = torch.tensor([\n",
        "    [1, 1],\n",
        "    [2, 2]\n",
        "]).cuda()\n",
        "\n",
        "# CPU 장치의 텐서\n",
        "b = torch.tensor([\n",
        "    [5, 6],\n",
        "    [7, 8]\n",
        "])\n",
        "\n",
        "# print(torch.matmul(a, b)) # 오류 발생\n",
        "print(torch.matmul(a.cpu(), b))"
      ],
      "metadata": {
        "id": "AoD41gmSgvRq",
        "colab": {
          "base_uri": "https://localhost:8080/"
        },
        "outputId": "40b6d305-07cd-415f-ef8f-d1de1938d836"
      },
      "execution_count": null,
      "outputs": [
        {
          "output_type": "stream",
          "name": "stdout",
          "text": [
            "tensor([[12, 14],\n",
            "        [24, 28]])\n"
          ]
        }
      ]
    },
    {
      "cell_type": "markdown",
      "source": [
        "### <b>2. 텐서 소개 및 생성 방법</b>\n",
        "\n",
        "* PyTorch에서의 텐서(tensor)는 기능적으로 넘파이(NumPy)와 매우 유사하다.\n",
        "* 기본적으로 <b>다차원 배열</b>을 처리하기에 적합한 자료구조로 이해할 수 있다.\n",
        "* PyTorch의 텐서는 \"자동 미분\" 기능을 제공한다."
      ],
      "metadata": {
        "id": "gG5-T_v3i_-j"
      }
    },
    {
      "cell_type": "markdown",
      "source": [
        "#### <b>1) 텐서의 속성</b>\n",
        "\n",
        "* 텐서의 <b>기본 속성</b>으로는 다음과 같은 것들이 있다.\n",
        "  * 모양(shape)\n",
        "  * 자료형(data type)\n",
        "  * 저장된 장치"
      ],
      "metadata": {
        "id": "PIy0ui-2kBQY"
      }
    },
    {
      "cell_type": "code",
      "source": [
        "tensor = torch.rand(3, 4)\n",
        "\n",
        "print(tensor)\n",
        "print(f\"Shape: {tensor.shape}\")\n",
        "print(f\"Data type: {tensor.dtype}\")\n",
        "print(f\"Device: {tensor.device}\")"
      ],
      "metadata": {
        "colab": {
          "base_uri": "https://localhost:8080/"
        },
        "id": "1Is319QTijnJ",
        "outputId": "317b9a3a-bc21-4e22-cc6d-e9fcb3f4cb59"
      },
      "execution_count": null,
      "outputs": [
        {
          "output_type": "stream",
          "name": "stdout",
          "text": [
            "tensor([[0.5617, 0.6678, 0.9611, 0.5428],\n",
            "        [0.5905, 0.6000, 0.0965, 0.8255],\n",
            "        [0.0290, 0.6259, 0.8446, 0.3971]])\n",
            "Shape: torch.Size([3, 4])\n",
            "Data type: torch.float32\n",
            "Device: cpu\n"
          ]
        }
      ]
    },
    {
      "cell_type": "markdown",
      "source": [
        "#### <b>2) 텐서 초기화</b>\n",
        "\n",
        "* 리스트 데이터에서 직접 텐서를 초기화할 수 있다."
      ],
      "metadata": {
        "id": "Tyja5zrgkaIe"
      }
    },
    {
      "cell_type": "code",
      "source": [
        "data = [\n",
        "  [1, 2],\n",
        "  [3, 4]\n",
        "]\n",
        "x = torch.tensor(data)\n",
        "\n",
        "print(x)"
      ],
      "metadata": {
        "colab": {
          "base_uri": "https://localhost:8080/"
        },
        "id": "XEQscYzijR5R",
        "outputId": "11bd4f9f-0dbc-4f1c-fd34-9bbe1e60187f"
      },
      "execution_count": null,
      "outputs": [
        {
          "output_type": "stream",
          "name": "stdout",
          "text": [
            "tensor([[1, 2],\n",
            "        [3, 4]])\n"
          ]
        }
      ]
    },
    {
      "cell_type": "markdown",
      "source": [
        "* NumPy 배열에서 텐서를 초기화할 수 있다."
      ],
      "metadata": {
        "id": "ZkNAhVJ7knAu"
      }
    },
    {
      "cell_type": "code",
      "source": [
        "a = torch.tensor([5])\n",
        "b = torch.tensor([7])\n",
        "\n",
        "c = (a + b).numpy()\n",
        "print(c)\n",
        "print(type(c))\n",
        "\n",
        "result = c * 10\n",
        "tensor = torch.from_numpy(result)\n",
        "print(tensor)\n",
        "print(type(tensor))"
      ],
      "metadata": {
        "colab": {
          "base_uri": "https://localhost:8080/"
        },
        "id": "HAgs_EGUkcQA",
        "outputId": "76658cf4-12d2-4629-cf36-4f297a9a27db"
      },
      "execution_count": null,
      "outputs": [
        {
          "output_type": "stream",
          "name": "stdout",
          "text": [
            "[12]\n",
            "<class 'numpy.ndarray'>\n",
            "tensor([120])\n",
            "<class 'torch.Tensor'>\n"
          ]
        }
      ]
    },
    {
      "cell_type": "markdown",
      "source": [
        "#### <b>3) 다른 텐서로부터 텐서 초기화하기</b>\n",
        "\n",
        "* 다른 텐서의 정보를 토대로 텐서를 초기화할 수 있다.\n",
        "* <b>텐서의 속성</b>: 모양(shape), 자료형(data type)"
      ],
      "metadata": {
        "id": "IQpO2z6QlCBR"
      }
    },
    {
      "cell_type": "code",
      "source": [
        "x = torch.tensor([\n",
        "    [5, 7],\n",
        "    [1, 2]\n",
        "])\n",
        "\n",
        "# x와 같은 모양과 자료형을 가지지만, 값이 1인 텐서 생성\n",
        "x_ones = torch.ones_like(x)\n",
        "print(x_ones)\n",
        "# x와 같은 모양을 가지되, 자료형은 float으로 덮어쓰고, 값은 랜덤으로 채우기\n",
        "x_rand = torch.rand_like(x, dtype=torch.float32) # uniform distribution [0, 1)\n",
        "print(x_rand)"
      ],
      "metadata": {
        "colab": {
          "base_uri": "https://localhost:8080/"
        },
        "id": "NMB086Xkks6A",
        "outputId": "5447c5cb-8780-4742-e3fa-cda2920d1b94"
      },
      "execution_count": null,
      "outputs": [
        {
          "output_type": "stream",
          "name": "stdout",
          "text": [
            "tensor([[1, 1],\n",
            "        [1, 1]])\n",
            "tensor([[0.6502, 0.5479],\n",
            "        [0.4932, 0.4435]])\n"
          ]
        }
      ]
    },
    {
      "cell_type": "markdown",
      "source": [
        "### <b>3. 텐서의 형변환 및 차원 조작</b>\n",
        "\n",
        "* 텐서는 넘파이(NumPy) 배열처럼 조작할 수 있다."
      ],
      "metadata": {
        "id": "wbGaxf2cmMcX"
      }
    },
    {
      "cell_type": "markdown",
      "source": [
        "#### <b>1) 텐서의 특정 차원 접근하기</b>\n",
        "\n",
        "* 텐서의 원하는 차원에 접근할 수 있다."
      ],
      "metadata": {
        "id": "PPU6Rf2anccw"
      }
    },
    {
      "cell_type": "code",
      "source": [
        "tensor = torch.tensor([\n",
        "    [1, 2, 3, 4],\n",
        "    [5, 6, 7, 8],\n",
        "    [9, 10, 11, 12]\n",
        "])\n",
        "\n",
        "print(tensor[0]) # first row\n",
        "print(tensor[:, 0]) # first column\n",
        "print(tensor[..., -1]) # last column"
      ],
      "metadata": {
        "colab": {
          "base_uri": "https://localhost:8080/"
        },
        "id": "08CjkoEVmRV1",
        "outputId": "d0502af3-27a6-4945-f9f6-d009bac4022f"
      },
      "execution_count": null,
      "outputs": [
        {
          "output_type": "stream",
          "name": "stdout",
          "text": [
            "tensor([1, 2, 3, 4])\n",
            "tensor([1, 5, 9])\n",
            "tensor([ 4,  8, 12])\n"
          ]
        }
      ]
    },
    {
      "cell_type": "markdown",
      "source": [
        "#### <b>2) 텐서 이어붙이기(Concatenate)</b>\n",
        "\n",
        "* 두 텐서를 이어 붙여 연결하여 새로운 텐서를 만들 수 있다."
      ],
      "metadata": {
        "id": "4CF6zbMKnUTU"
      }
    },
    {
      "cell_type": "code",
      "source": [
        "tensor = torch.tensor([\n",
        "    [1, 2, 3, 4],\n",
        "    [5, 6, 7, 8],\n",
        "    [9, 10, 11, 12]\n",
        "])\n",
        "\n",
        "# dim: 텐서를 이어 붙이기 위한 축\n",
        "# 0번 축(행)을 기준으로 이어 붙이기\n",
        "result = torch.cat([tensor, tensor, tensor], dim=0)\n",
        "print(result)\n",
        "\n",
        "# 1번 축(열)을 기준으로 이어 붙이기\n",
        "result = torch.cat([tensor, tensor, tensor], dim=1)\n",
        "print(result)"
      ],
      "metadata": {
        "id": "G1fgQePOmg-l",
        "colab": {
          "base_uri": "https://localhost:8080/"
        },
        "outputId": "582f98b2-94c1-4e4c-d7dd-e069e29b551e"
      },
      "execution_count": null,
      "outputs": [
        {
          "output_type": "stream",
          "name": "stdout",
          "text": [
            "tensor([[ 1,  2,  3,  4],\n",
            "        [ 5,  6,  7,  8],\n",
            "        [ 9, 10, 11, 12],\n",
            "        [ 1,  2,  3,  4],\n",
            "        [ 5,  6,  7,  8],\n",
            "        [ 9, 10, 11, 12],\n",
            "        [ 1,  2,  3,  4],\n",
            "        [ 5,  6,  7,  8],\n",
            "        [ 9, 10, 11, 12]])\n",
            "tensor([[ 1,  2,  3,  4,  1,  2,  3,  4,  1,  2,  3,  4],\n",
            "        [ 5,  6,  7,  8,  5,  6,  7,  8,  5,  6,  7,  8],\n",
            "        [ 9, 10, 11, 12,  9, 10, 11, 12,  9, 10, 11, 12]])\n"
          ]
        }
      ]
    },
    {
      "cell_type": "markdown",
      "source": [
        "#### <b>3) 텐서 형변환(Type Casting)</b>\n",
        "\n",
        "* 텐서의 자료형(정수, 실수 등)을 변환할 수 있다."
      ],
      "metadata": {
        "id": "jk0Got6_oA5e"
      }
    },
    {
      "cell_type": "code",
      "source": [
        "a = torch.tensor([2], dtype=torch.int)\n",
        "b = torch.tensor([5.0])\n",
        "\n",
        "print(a.dtype)\n",
        "print(b.dtype)\n",
        "\n",
        "# 텐서 a는 자동으로 float32형으로 형변환 처리\n",
        "print(a + b)\n",
        "# 텐서 b를 int32형으로 형변환하여 덧셈 수행\n",
        "print(a + b.type(torch.int32))"
      ],
      "metadata": {
        "colab": {
          "base_uri": "https://localhost:8080/"
        },
        "id": "yqAjzLwQnyGv",
        "outputId": "4b6c6309-8580-482f-c389-7afb1337ed26"
      },
      "execution_count": null,
      "outputs": [
        {
          "output_type": "stream",
          "name": "stdout",
          "text": [
            "torch.int32\n",
            "torch.float32\n",
            "tensor([7.])\n",
            "tensor([7], dtype=torch.int32)\n"
          ]
        }
      ]
    },
    {
      "cell_type": "markdown",
      "source": [
        "#### <b>4) 텐서의 모양 변경</b>\n",
        "\n",
        "* view()는 텐서의 모양을 변경할 때 사용한다.\n",
        "* 이때, 텐서(tensor)의 순서는 변경되지 않는다."
      ],
      "metadata": {
        "id": "BLS7wEocoklP"
      }
    },
    {
      "cell_type": "code",
      "source": [
        "# view()는 텐서의 모양을 변경할 때 사용한다.\n",
        "# 이때, 텐서(tensor)의 순서는 변경되지 않는다.\n",
        "a = torch.tensor([1, 2, 3, 4, 5, 6, 7, 8])\n",
        "b = a.view(4, 2)\n",
        "print(b)\n",
        "\n",
        "# a의 값을 변경하면 b도 변경\n",
        "a[0] = 7\n",
        "print(b)\n",
        "\n",
        "# a의 값을 복사(copy)한 뒤에 변경\n",
        "c = a.clone().view(4, 2)\n",
        "a[0] = 9\n",
        "print(c)"
      ],
      "metadata": {
        "colab": {
          "base_uri": "https://localhost:8080/"
        },
        "id": "tcmixu6Gochu",
        "outputId": "46fa6574-965d-4451-f86e-ff8d50d7cc38"
      },
      "execution_count": null,
      "outputs": [
        {
          "output_type": "stream",
          "name": "stdout",
          "text": [
            "tensor([[1, 2],\n",
            "        [3, 4],\n",
            "        [5, 6],\n",
            "        [7, 8]])\n",
            "tensor([[7, 2],\n",
            "        [3, 4],\n",
            "        [5, 6],\n",
            "        [7, 8]])\n",
            "tensor([[7, 2],\n",
            "        [3, 4],\n",
            "        [5, 6],\n",
            "        [7, 8]])\n"
          ]
        }
      ]
    },
    {
      "cell_type": "markdown",
      "source": [
        "#### <b>5) 텐서의 차원 교환</b>\n",
        "\n",
        "* 하나의 텐서에서 특정한 차원끼리 순서를 교체할 수 있다."
      ],
      "metadata": {
        "id": "1Y6HS8OCpCDM"
      }
    },
    {
      "cell_type": "code",
      "source": [
        "a = torch.rand((64, 32, 3))\n",
        "print(a.shape)\n",
        "\n",
        "b = a.permute(2, 1, 0) # 차원 자체를 교환\n",
        "# (2번째 축, 1번째 축, 0번째 축)의 형태가 되도록 한다.\n",
        "print(b.shape)"
      ],
      "metadata": {
        "colab": {
          "base_uri": "https://localhost:8080/"
        },
        "id": "KFVJPP0lowo2",
        "outputId": "ba96064e-96f9-4cd5-fcf4-646299cd6ea0"
      },
      "execution_count": null,
      "outputs": [
        {
          "output_type": "stream",
          "name": "stdout",
          "text": [
            "torch.Size([64, 32, 3])\n",
            "torch.Size([3, 32, 64])\n"
          ]
        }
      ]
    },
    {
      "cell_type": "markdown",
      "source": [
        "### <b>4. 텐서의 연산과 함수</b>"
      ],
      "metadata": {
        "id": "Pa2omUvgpvFR"
      }
    },
    {
      "cell_type": "markdown",
      "source": [
        "#### <b>1) 텐서의 연산</b>\n",
        "\n",
        "* 텐서에 대하여 사칙연산 등 기본적인 연산을 수행할 수 있다."
      ],
      "metadata": {
        "id": "yYbmggCmq8_i"
      }
    },
    {
      "cell_type": "code",
      "source": [
        "# 같은 크기를 가진 두 개의 텐서에 대하여 사칙연산 가능\n",
        "# 기본적으로 요소별(element-wise) 연산\n",
        "a = torch.tensor([\n",
        "    [1, 2],\n",
        "    [3, 4]\n",
        "])\n",
        "b = torch.tensor([\n",
        "    [5, 6],\n",
        "    [7, 8]\n",
        "])\n",
        "print(a + b)\n",
        "print(a - b)\n",
        "print(a * b)\n",
        "print(a / b)"
      ],
      "metadata": {
        "colab": {
          "base_uri": "https://localhost:8080/"
        },
        "id": "AUZ-0T3CpQRk",
        "outputId": "1a776fb4-6d52-472f-d091-ead0e833cf15"
      },
      "execution_count": null,
      "outputs": [
        {
          "output_type": "stream",
          "name": "stdout",
          "text": [
            "tensor([[ 6,  8],\n",
            "        [10, 12]])\n",
            "tensor([[-4, -4],\n",
            "        [-4, -4]])\n",
            "tensor([[ 5, 12],\n",
            "        [21, 32]])\n",
            "tensor([[0.2000, 0.3333],\n",
            "        [0.4286, 0.5000]])\n"
          ]
        }
      ]
    },
    {
      "cell_type": "markdown",
      "source": [
        "* 행렬 곱을 수행할 수 있다."
      ],
      "metadata": {
        "id": "W0EcZK5fp3IN"
      }
    },
    {
      "cell_type": "code",
      "source": [
        "a = torch.tensor([\n",
        "    [1, 2],\n",
        "    [3, 4]\n",
        "])\n",
        "b = torch.tensor([\n",
        "    [5, 6],\n",
        "    [7, 8]\n",
        "])\n",
        "# 행렬 곱(matrix multiplication) 수행\n",
        "print(a.matmul(b))\n",
        "print(torch.matmul(a, b))"
      ],
      "metadata": {
        "colab": {
          "base_uri": "https://localhost:8080/"
        },
        "id": "VLk63a2yp1h9",
        "outputId": "07dfe337-2b47-4b5b-dd96-ff042fdcd2e2"
      },
      "execution_count": null,
      "outputs": [
        {
          "output_type": "stream",
          "name": "stdout",
          "text": [
            "tensor([[19, 22],\n",
            "        [43, 50]])\n",
            "tensor([[19, 22],\n",
            "        [43, 50]])\n"
          ]
        }
      ]
    },
    {
      "cell_type": "markdown",
      "source": [
        "#### <b>2) 텐서의 평균 함수</b>\n",
        "\n",
        "* 텐서의 평균(mean)을 계산할 수 있다."
      ],
      "metadata": {
        "id": "r3X_9zxRrAr-"
      }
    },
    {
      "cell_type": "code",
      "source": [
        "a = torch.Tensor([\n",
        "    [1, 2, 3, 4],\n",
        "    [5, 6, 7, 8]\n",
        "])\n",
        "print(a)\n",
        "print(a.mean()) # 전체 원소에 대한 평균\n",
        "print(a.mean(dim=0)) # 각 열에 대하여 평균 계산\n",
        "print(a.mean(dim=1)) # 각 행에 대하여 평균 계산"
      ],
      "metadata": {
        "colab": {
          "base_uri": "https://localhost:8080/"
        },
        "id": "XG01eYzJp47V",
        "outputId": "d1af879b-b8fe-407c-bab2-6223fe36c7c0"
      },
      "execution_count": null,
      "outputs": [
        {
          "output_type": "stream",
          "name": "stdout",
          "text": [
            "tensor([[1., 2., 3., 4.],\n",
            "        [5., 6., 7., 8.]])\n",
            "tensor(4.5000)\n",
            "tensor([3., 4., 5., 6.])\n",
            "tensor([2.5000, 6.5000])\n"
          ]
        }
      ]
    },
    {
      "cell_type": "markdown",
      "source": [
        "#### <b>3) 텐서의 합계 함수</b>\n",
        "\n",
        "* 텐서의 합계(sum)를 계산할 수 있다."
      ],
      "metadata": {
        "id": "FTRNgerirF1O"
      }
    },
    {
      "cell_type": "code",
      "source": [
        "a = torch.Tensor([\n",
        "    [1, 2, 3, 4],\n",
        "    [5, 6, 7, 8]\n",
        "])\n",
        "print(a)\n",
        "print(a.sum()) # 전체 원소에 대한 합계\n",
        "print(a.sum(dim=0)) # 각 열에 대하여 합계 계산\n",
        "print(a.sum(dim=1)) # 각 행에 대하여 합계 계산"
      ],
      "metadata": {
        "colab": {
          "base_uri": "https://localhost:8080/"
        },
        "id": "PQD0_795qyWV",
        "outputId": "e955438b-5db0-4488-9190-53b16e977500"
      },
      "execution_count": null,
      "outputs": [
        {
          "output_type": "stream",
          "name": "stdout",
          "text": [
            "tensor([[1., 2., 3., 4.],\n",
            "        [5., 6., 7., 8.]])\n",
            "tensor(36.)\n",
            "tensor([ 6.,  8., 10., 12.])\n",
            "tensor([10., 26.])\n"
          ]
        }
      ]
    },
    {
      "cell_type": "markdown",
      "source": [
        "#### <b>4) 텐서의 최대 함수</b>\n",
        "\n",
        "* <b>max() 함수</b>는 원소의 최댓값을 반환한다.\n",
        "* <b>argmax() 함수</b>는 가장 큰 원소(최댓값)의 인덱스를 반환한다."
      ],
      "metadata": {
        "id": "ArJr6WTMrVNx"
      }
    },
    {
      "cell_type": "code",
      "source": [
        "a = torch.Tensor([\n",
        "    [1, 2, 3, 4],\n",
        "    [5, 6, 7, 8]\n",
        "])\n",
        "print(a)\n",
        "print(a.max()) # 전체 원소에 대한 최댓값\n",
        "print(a.max(dim=0)) # 각 열에 대하여 최댓값 계산\n",
        "print(a.max(dim=1)) # 각 행에 대하여 최댓값 계산"
      ],
      "metadata": {
        "colab": {
          "base_uri": "https://localhost:8080/"
        },
        "id": "4IkWiV8QrPQN",
        "outputId": "1f69701c-43a0-48d0-d467-4bbff7de0772"
      },
      "execution_count": null,
      "outputs": [
        {
          "output_type": "stream",
          "name": "stdout",
          "text": [
            "tensor([[1., 2., 3., 4.],\n",
            "        [5., 6., 7., 8.]])\n",
            "tensor(8.)\n",
            "torch.return_types.max(\n",
            "values=tensor([5., 6., 7., 8.]),\n",
            "indices=tensor([1, 1, 1, 1]))\n",
            "torch.return_types.max(\n",
            "values=tensor([4., 8.]),\n",
            "indices=tensor([3, 3]))\n"
          ]
        }
      ]
    },
    {
      "cell_type": "code",
      "source": [
        "a = torch.Tensor([\n",
        "    [1, 2, 3, 4],\n",
        "    [5, 6, 7, 8]\n",
        "])\n",
        "print(a)\n",
        "print(a.argmax()) # 전체 원소에 대한 최댓값의 인덱스\n",
        "print(a.argmax(dim=0)) # 각 열에 대하여 최댓값의 인덱스 계산\n",
        "print(a.argmax(dim=1)) # 각 행에 대하여 최댓값의 인덱스 계산"
      ],
      "metadata": {
        "colab": {
          "base_uri": "https://localhost:8080/"
        },
        "id": "9LB9zBslr3s1",
        "outputId": "8826e7a8-d604-49c5-ebe1-2e8475a8657c"
      },
      "execution_count": null,
      "outputs": [
        {
          "output_type": "stream",
          "name": "stdout",
          "text": [
            "tensor([[1., 2., 3., 4.],\n",
            "        [5., 6., 7., 8.]])\n",
            "tensor(7)\n",
            "tensor([1, 1, 1, 1])\n",
            "tensor([3, 3])\n"
          ]
        }
      ]
    },
    {
      "cell_type": "markdown",
      "source": [
        "#### <b>5) 텐서의 차원 줄이기 혹은 늘리기</b>\n",
        "\n",
        "* <b>unsqueeze() 함수</b>는  크기가 1인 차원을 추가한다.\n",
        "  * 배치(batch) 차원을 추가하기 위한 목적으로 흔히 사용된다.\n",
        "* <b>squeeze() 함수</b>는 크기가 1인 차원을 제거한다."
      ],
      "metadata": {
        "id": "0Edgcic4sRoD"
      }
    },
    {
      "cell_type": "code",
      "source": [
        "a = torch.Tensor([\n",
        "    [1, 2, 3, 4],\n",
        "    [5, 6, 7, 8]\n",
        "])\n",
        "print(a.shape)\n",
        "\n",
        "# 첫 번째 축에 차원 추가\n",
        "a = a.unsqueeze(0)\n",
        "print(a)\n",
        "print(a.shape)\n",
        "\n",
        "# 네 번째 축에 차원 추가\n",
        "a = a.unsqueeze(3)\n",
        "print(a)\n",
        "print(a.shape)"
      ],
      "metadata": {
        "colab": {
          "base_uri": "https://localhost:8080/"
        },
        "id": "xnKlzpPAsBnE",
        "outputId": "c77015a5-b94a-4659-b9fc-a093bc9cd311"
      },
      "execution_count": null,
      "outputs": [
        {
          "output_type": "stream",
          "name": "stdout",
          "text": [
            "torch.Size([2, 4])\n",
            "tensor([[[1., 2., 3., 4.],\n",
            "         [5., 6., 7., 8.]]])\n",
            "torch.Size([1, 2, 4])\n",
            "tensor([[[[1.],\n",
            "          [2.],\n",
            "          [3.],\n",
            "          [4.]],\n",
            "\n",
            "         [[5.],\n",
            "          [6.],\n",
            "          [7.],\n",
            "          [8.]]]])\n",
            "torch.Size([1, 2, 4, 1])\n"
          ]
        }
      ]
    },
    {
      "cell_type": "code",
      "source": [
        "# 크기가 1인 차원 제거\n",
        "a = a.squeeze()\n",
        "print(a)\n",
        "print(a.shape)"
      ],
      "metadata": {
        "colab": {
          "base_uri": "https://localhost:8080/"
        },
        "id": "3SGC3ijbs1YU",
        "outputId": "8aad13af-de41-4e0e-aaf1-3dd9120b6059"
      },
      "execution_count": null,
      "outputs": [
        {
          "output_type": "stream",
          "name": "stdout",
          "text": [
            "tensor([[1., 2., 3., 4.],\n",
            "        [5., 6., 7., 8.]])\n",
            "torch.Size([2, 4])\n"
          ]
        }
      ]
    },
    {
      "cell_type": "markdown",
      "source": [
        "### <b>5. 자동 미분과 기울기(Gradient)</b>\n",
        "\n",
        "* PyTorch에서는 연산에 대하여 자동 미분을 수행할 수 있다."
      ],
      "metadata": {
        "id": "irKUUZBSvj3_"
      }
    },
    {
      "cell_type": "code",
      "source": [
        "import torch\n",
        "\n",
        "# requires_grad를 설정할 때만 기울기 추적\n",
        "x = torch.tensor([3.0, 4.0], requires_grad=True)\n",
        "y = torch.tensor([1.0, 2.0], requires_grad=True)\n",
        "z = x + y\n",
        "\n",
        "print(z) # [4.0, 6.0]\n",
        "print(z.grad_fn) # 더하기(add)\n",
        "\n",
        "out = z.mean()\n",
        "print(out) # 5.0\n",
        "print(out.grad_fn) # 평균(mean)\n",
        "\n",
        "out.backward() # scalar에 대하여 가능\n",
        "print(x.grad)\n",
        "print(y.grad)\n",
        "print(z.grad) # leaf variable에 대해서만 gradient 추적이 가능하다. 따라서 None."
      ],
      "metadata": {
        "colab": {
          "base_uri": "https://localhost:8080/"
        },
        "id": "sTGdPX8jvlD2",
        "outputId": "1ccccc64-4e22-480e-d4a9-f212f392d82b"
      },
      "execution_count": null,
      "outputs": [
        {
          "output_type": "stream",
          "name": "stdout",
          "text": [
            "tensor([4., 6.], grad_fn=<AddBackward0>)\n",
            "<AddBackward0 object at 0x7fd0e46d9b50>\n",
            "tensor(5., grad_fn=<MeanBackward0>)\n",
            "<MeanBackward0 object at 0x7fd0e46d9050>\n",
            "tensor([0.5000, 0.5000])\n",
            "tensor([0.5000, 0.5000])\n",
            "None\n"
          ]
        }
      ]
    },
    {
      "cell_type": "markdown",
      "source": [
        "* 일반적으로 모델을 학습할 때는 <b>기울기(gradient)를 추적</b>한다.\n",
        "* 하지만, 학습된 모델을 사용할 때는 파라미터를 업데이트하지 않으므로, 기울기를 추적하지 않는 것이 일반적이다."
      ],
      "metadata": {
        "id": "qSuOFKWuwWas"
      }
    },
    {
      "cell_type": "code",
      "source": [
        "temp = torch.tensor([3.0, 4.0], requires_grad=True)\n",
        "print(temp.requires_grad)\n",
        "print((temp ** 2).requires_grad)\n",
        "\n",
        "# 기울기 추적을 하지 않기 때문에 계산 속도가 더 빠르다.\n",
        "with torch.no_grad():\n",
        "    temp = torch.tensor([3.0, 4.0], requires_grad=True)\n",
        "    print(temp.requires_grad)\n",
        "    print((temp ** 2).requires_grad)"
      ],
      "metadata": {
        "colab": {
          "base_uri": "https://localhost:8080/"
        },
        "id": "ie1y_dfuvs-i",
        "outputId": "d47c8dee-7950-4b93-eafc-0dfcfcb8f2b6"
      },
      "execution_count": null,
      "outputs": [
        {
          "output_type": "stream",
          "name": "stdout",
          "text": [
            "True\n",
            "True\n",
            "True\n",
            "False\n"
          ]
        }
      ]
    }
  ]
}